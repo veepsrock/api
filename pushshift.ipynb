{
 "cells": [
  {
   "cell_type": "code",
   "execution_count": 0,
   "metadata": {
    "application/vnd.databricks.v1+cell": {
     "cellMetadata": {},
     "inputWidgets": {},
     "nuid": "7495c933-2035-4fdf-9224-b06de221bd41",
     "showTitle": false,
     "title": ""
    }
   },
   "outputs": [],
   "source": [
    "import re\n",
    "import pandas as pd\n",
    "\n",
    "# create a dataset\n",
    "data = {'text': ['Im 18F', 'This is my favorite food', '20M'], 'user': ['a', 'b', 'c']}\n",
    "\n",
    "# convert it to a dataframe\n",
    "df = pd.DataFrame.from_dict(data)\n",
    "\n",
    "# check if the text contains a number followed by the letter 'F'\n",
    "df['text'].str.contains('\\dF')"
   ]
  },
  {
   "cell_type": "code",
   "execution_count": 0,
   "metadata": {
    "application/vnd.databricks.v1+cell": {
     "cellMetadata": {},
     "inputWidgets": {},
     "nuid": "c219bd91-f5d7-44d9-9815-40296cb951f1",
     "showTitle": false,
     "title": ""
    }
   },
   "outputs": [],
   "source": [
    "df.loc[df['text'].str.contains(r'\\dF'),:]"
   ]
  },
  {
   "cell_type": "code",
   "execution_count": 0,
   "metadata": {
    "application/vnd.databricks.v1+cell": {
     "cellMetadata": {},
     "inputWidgets": {},
     "nuid": "7d834f46-a924-4adf-b1d7-636acb24d187",
     "showTitle": false,
     "title": ""
    }
   },
   "outputs": [],
   "source": [
    "new_df = df[df['text'].str.contains(r'\\dF') | df['text'].str.contains(r'\\dM')]"
   ]
  },
  {
   "cell_type": "code",
   "execution_count": 0,
   "metadata": {
    "application/vnd.databricks.v1+cell": {
     "cellMetadata": {},
     "inputWidgets": {},
     "nuid": "65378039-938e-4bcc-99f3-baabd3affc8f",
     "showTitle": false,
     "title": ""
    }
   },
   "outputs": [],
   "source": [
    "new_df"
   ]
  },
  {
   "cell_type": "code",
   "execution_count": 0,
   "metadata": {
    "application/vnd.databricks.v1+cell": {
     "cellMetadata": {},
     "inputWidgets": {},
     "nuid": "e9316824-c583-4624-bfce-a1b56da30756",
     "showTitle": false,
     "title": ""
    }
   },
   "outputs": [],
   "source": [
    "import requests\n",
    "import pandas as pd\n",
    "import datetime as dt\n",
    "import time\n",
    "pd.set_option('display.max_columns', None)"
   ]
  },
  {
   "cell_type": "code",
   "execution_count": 0,
   "metadata": {
    "application/vnd.databricks.v1+cell": {
     "cellMetadata": {},
     "inputWidgets": {},
     "nuid": "971e0021-1373-4f2b-9eb3-e8ce94507314",
     "showTitle": false,
     "title": ""
    }
   },
   "outputs": [],
   "source": [
    "# custom function to query reddit multiple times\n",
    "# this code is adapted from Hovanes's codes that he shared in class\n",
    "\n",
    "def reddit_query(subreddit, n_samples):\n",
    "    base_url = 'https://api.pushshift.io/reddit/submission/search' # base url for api\n",
    "    list_posts = []\n",
    "    oldest_post = None\n",
    "    \n",
    "    while len(list_posts) < n_samples: # n_samples exceeds the reddit api limit of 1000\n",
    "        params = {\n",
    "            \"subreddit\" : subreddit,\n",
    "            \"size\" : 1000,\n",
    "            \"before\": oldest_post # a time stamp to set when to start pulling posts\n",
    "            }  \n",
    "            \n",
    "        res = requests.get(base_url,params) # request reddit info\n",
    "            \n",
    "        posts = res.json()['data'] # create list from json\n",
    "        \n",
    "        if len(posts) == 0:\n",
    "            oldest_post = None # for the first time running this, before will be None\n",
    "            list_posts.extend(posts) # add batch of posts to list_posts     \n",
    "        else:\n",
    "            time.sleep(3) # wait 3 seconds before querying again\n",
    "            oldest_post = dt.datetime.fromtimestamp(posts[-1][\"created_utc\"]) # take the oldest time from the list and pull posts before that time\n",
    "            list_posts.extend(posts) # add batch of posts to list_posts\n",
    "    return pd.DataFrame(list_posts) # return pandas dataframe"
   ]
  },
  {
   "cell_type": "code",
   "execution_count": 0,
   "metadata": {
    "application/vnd.databricks.v1+cell": {
     "cellMetadata": {},
     "inputWidgets": {},
     "nuid": "47318eb8-133d-479b-9a95-036e2056e850",
     "showTitle": false,
     "title": ""
    }
   },
   "outputs": [],
   "source": [
    "requests.get('https://api.pushshift.io/reddit/submission/search')"
   ]
  },
  {
   "cell_type": "code",
   "execution_count": 0,
   "metadata": {
    "application/vnd.databricks.v1+cell": {
     "cellMetadata": {},
     "inputWidgets": {},
     "nuid": "0c07d9e9-40f7-4b80-a052-33afbf072ed7",
     "showTitle": false,
     "title": ""
    }
   },
   "outputs": [],
   "source": [
    "rbn = reddit_query(\"raisedbynarcissists\", 10)"
   ]
  },
  {
   "cell_type": "code",
   "execution_count": 0,
   "metadata": {
    "application/vnd.databricks.v1+cell": {
     "cellMetadata": {},
     "inputWidgets": {},
     "nuid": "a52508fe-6bef-4432-baf4-c3896246938e",
     "showTitle": false,
     "title": ""
    }
   },
   "outputs": [],
   "source": []
  }
 ],
 "metadata": {
  "application/vnd.databricks.v1+notebook": {
   "dashboards": [],
   "language": "python",
   "notebookMetadata": {},
   "notebookName": "pushshift",
   "widgets": {}
  },
  "kernelspec": {
   "display_name": "Python 3 (ipykernel)",
   "language": "python",
   "name": "python3"
  },
  "language_info": {
   "codemirror_mode": {
    "name": "ipython",
    "version": 3
   },
   "file_extension": ".py",
   "mimetype": "text/x-python",
   "name": "python",
   "nbconvert_exporter": "python",
   "pygments_lexer": "ipython3",
   "version": "3.8.12"
  }
 },
 "nbformat": 4,
 "nbformat_minor": 0
}

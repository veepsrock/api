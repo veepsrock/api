{
 "cells": [
  {
   "cell_type": "code",
   "execution_count": 8,
   "id": "68042383-34f4-4b8c-add6-61c746c3e714",
   "metadata": {},
   "outputs": [
    {
     "data": {
      "text/plain": [
       "0     True\n",
       "1    False\n",
       "2    False\n",
       "Name: text, dtype: bool"
      ]
     },
     "execution_count": 8,
     "metadata": {},
     "output_type": "execute_result"
    }
   ],
   "source": [
    "import re\n",
    "import pandas as pd\n",
    "\n",
    "# create a dataset\n",
    "data = {'text': ['Im 18F', 'This is my favorite food', '20M'], 'user': ['a', 'b', 'c']}\n",
    "\n",
    "# convert it to a dataframe\n",
    "df = pd.DataFrame.from_dict(data)\n",
    "\n",
    "# check if the text contains a number followed by the letter 'F'\n",
    "df['text'].str.contains('\\dF')"
   ]
  },
  {
   "cell_type": "code",
   "execution_count": 19,
   "id": "b8f409a2-b7fd-4254-aa17-1f7af95eadfa",
   "metadata": {},
   "outputs": [
    {
     "data": {
      "text/html": [
       "<div>\n",
       "<style scoped>\n",
       "    .dataframe tbody tr th:only-of-type {\n",
       "        vertical-align: middle;\n",
       "    }\n",
       "\n",
       "    .dataframe tbody tr th {\n",
       "        vertical-align: top;\n",
       "    }\n",
       "\n",
       "    .dataframe thead th {\n",
       "        text-align: right;\n",
       "    }\n",
       "</style>\n",
       "<table border=\"1\" class=\"dataframe\">\n",
       "  <thead>\n",
       "    <tr style=\"text-align: right;\">\n",
       "      <th></th>\n",
       "      <th>text</th>\n",
       "      <th>user</th>\n",
       "    </tr>\n",
       "  </thead>\n",
       "  <tbody>\n",
       "    <tr>\n",
       "      <th>0</th>\n",
       "      <td>Im 18F</td>\n",
       "      <td>a</td>\n",
       "    </tr>\n",
       "  </tbody>\n",
       "</table>\n",
       "</div>"
      ],
      "text/plain": [
       "     text user\n",
       "0  Im 18F    a"
      ]
     },
     "execution_count": 19,
     "metadata": {},
     "output_type": "execute_result"
    }
   ],
   "source": [
    "df.loc[df['text'].str.contains(r'\\dF'),:]"
   ]
  },
  {
   "cell_type": "code",
   "execution_count": 17,
   "id": "672ee3d9-c1fc-4e43-8714-05d7e7e7fa30",
   "metadata": {},
   "outputs": [],
   "source": [
    "new_df = df[df['text'].str.contains(r'\\dF') | df['text'].str.contains(r'\\dM')]"
   ]
  },
  {
   "cell_type": "code",
   "execution_count": 18,
   "id": "ca23b148-9aff-483a-b8d1-0a6078765324",
   "metadata": {},
   "outputs": [
    {
     "data": {
      "text/html": [
       "<div>\n",
       "<style scoped>\n",
       "    .dataframe tbody tr th:only-of-type {\n",
       "        vertical-align: middle;\n",
       "    }\n",
       "\n",
       "    .dataframe tbody tr th {\n",
       "        vertical-align: top;\n",
       "    }\n",
       "\n",
       "    .dataframe thead th {\n",
       "        text-align: right;\n",
       "    }\n",
       "</style>\n",
       "<table border=\"1\" class=\"dataframe\">\n",
       "  <thead>\n",
       "    <tr style=\"text-align: right;\">\n",
       "      <th></th>\n",
       "      <th>text</th>\n",
       "      <th>user</th>\n",
       "    </tr>\n",
       "  </thead>\n",
       "  <tbody>\n",
       "    <tr>\n",
       "      <th>0</th>\n",
       "      <td>Im 18F</td>\n",
       "      <td>a</td>\n",
       "    </tr>\n",
       "    <tr>\n",
       "      <th>2</th>\n",
       "      <td>20M</td>\n",
       "      <td>c</td>\n",
       "    </tr>\n",
       "  </tbody>\n",
       "</table>\n",
       "</div>"
      ],
      "text/plain": [
       "     text user\n",
       "0  Im 18F    a\n",
       "2     20M    c"
      ]
     },
     "execution_count": 18,
     "metadata": {},
     "output_type": "execute_result"
    }
   ],
   "source": [
    "new_df"
   ]
  },
  {
   "cell_type": "code",
   "execution_count": 1,
   "id": "44c4c62b-badb-42b4-85f6-2e5d6308dfc9",
   "metadata": {},
   "outputs": [],
   "source": [
    "import requests\n",
    "import pandas as pd\n",
    "import datetime as dt\n",
    "import time\n",
    "pd.set_option('display.max_columns', None)"
   ]
  },
  {
   "cell_type": "code",
   "execution_count": 2,
   "id": "17e9419e-acff-4b65-b8f9-94994ef77bcc",
   "metadata": {},
   "outputs": [],
   "source": [
    "# custom function to query reddit multiple times\n",
    "# this code is adapted from Hovanes's codes that he shared in class\n",
    "\n",
    "def reddit_query(subreddit, n_samples):\n",
    "    base_url = 'https://api.pushshift.io/reddit/submission/search' # base url for api\n",
    "    list_posts = []\n",
    "    oldest_post = None\n",
    "    \n",
    "    while len(list_posts) < n_samples: # n_samples exceeds the reddit api limit of 1000\n",
    "        params = {\n",
    "            \"subreddit\" : subreddit,\n",
    "            \"size\" : 1000,\n",
    "            \"before\": oldest_post # a time stamp to set when to start pulling posts\n",
    "            }  \n",
    "            \n",
    "        res = requests.get(base_url,params) # request reddit info\n",
    "            \n",
    "        posts = res.json()['data'] # create list from json\n",
    "        \n",
    "        if len(posts) == 0:\n",
    "            oldest_post = None # for the first time running this, before will be None\n",
    "            list_posts.extend(posts) # add batch of posts to list_posts     \n",
    "        else:\n",
    "            time.sleep(3) # wait 3 seconds before querying again\n",
    "            oldest_post = dt.datetime.fromtimestamp(posts[-1][\"created_utc\"]) # take the oldest time from the list and pull posts before that time\n",
    "            list_posts.extend(posts) # add batch of posts to list_posts\n",
    "    return pd.DataFrame(list_posts) # return pandas dataframe"
   ]
  },
  {
   "cell_type": "code",
   "execution_count": 7,
   "id": "9e884927-ac21-4a3c-af98-dc1909162da2",
   "metadata": {},
   "outputs": [
    {
     "data": {
      "text/plain": [
       "<Response [403]>"
      ]
     },
     "execution_count": 7,
     "metadata": {},
     "output_type": "execute_result"
    }
   ],
   "source": [
    "requests.get('https://api.pushshift.io/reddit/submission/search')"
   ]
  },
  {
   "cell_type": "code",
   "execution_count": 5,
   "id": "721302d2-65c2-497b-bec5-a407d9f1392d",
   "metadata": {},
   "outputs": [
    {
     "ename": "KeyError",
     "evalue": "'data'",
     "output_type": "error",
     "traceback": [
      "\u001b[0;31m---------------------------------------------------------------------------\u001b[0m",
      "\u001b[0;31mKeyError\u001b[0m                                  Traceback (most recent call last)",
      "Input \u001b[0;32mIn [5]\u001b[0m, in \u001b[0;36m<module>\u001b[0;34m\u001b[0m\n\u001b[0;32m----> 1\u001b[0m rbn \u001b[38;5;241m=\u001b[39m \u001b[43mreddit_query\u001b[49m\u001b[43m(\u001b[49m\u001b[38;5;124;43m\"\u001b[39;49m\u001b[38;5;124;43mraisedbynarcissists\u001b[39;49m\u001b[38;5;124;43m\"\u001b[39;49m\u001b[43m,\u001b[49m\u001b[43m \u001b[49m\u001b[38;5;241;43m10\u001b[39;49m\u001b[43m)\u001b[49m\n",
      "Input \u001b[0;32mIn [2]\u001b[0m, in \u001b[0;36mreddit_query\u001b[0;34m(subreddit, n_samples)\u001b[0m\n\u001b[1;32m     10\u001b[0m params \u001b[38;5;241m=\u001b[39m {\n\u001b[1;32m     11\u001b[0m     \u001b[38;5;124m\"\u001b[39m\u001b[38;5;124msubreddit\u001b[39m\u001b[38;5;124m\"\u001b[39m : subreddit,\n\u001b[1;32m     12\u001b[0m     \u001b[38;5;124m\"\u001b[39m\u001b[38;5;124msize\u001b[39m\u001b[38;5;124m\"\u001b[39m : \u001b[38;5;241m1000\u001b[39m,\n\u001b[1;32m     13\u001b[0m     \u001b[38;5;124m\"\u001b[39m\u001b[38;5;124mbefore\u001b[39m\u001b[38;5;124m\"\u001b[39m: oldest_post \u001b[38;5;66;03m# a time stamp to set when to start pulling posts\u001b[39;00m\n\u001b[1;32m     14\u001b[0m     }  \n\u001b[1;32m     16\u001b[0m res \u001b[38;5;241m=\u001b[39m requests\u001b[38;5;241m.\u001b[39mget(base_url,params) \u001b[38;5;66;03m# request reddit info\u001b[39;00m\n\u001b[0;32m---> 18\u001b[0m posts \u001b[38;5;241m=\u001b[39m \u001b[43mres\u001b[49m\u001b[38;5;241;43m.\u001b[39;49m\u001b[43mjson\u001b[49m\u001b[43m(\u001b[49m\u001b[43m)\u001b[49m\u001b[43m[\u001b[49m\u001b[38;5;124;43m'\u001b[39;49m\u001b[38;5;124;43mdata\u001b[39;49m\u001b[38;5;124;43m'\u001b[39;49m\u001b[43m]\u001b[49m \u001b[38;5;66;03m# create list from json\u001b[39;00m\n\u001b[1;32m     20\u001b[0m \u001b[38;5;28;01mif\u001b[39;00m \u001b[38;5;28mlen\u001b[39m(posts) \u001b[38;5;241m==\u001b[39m \u001b[38;5;241m0\u001b[39m:\n\u001b[1;32m     21\u001b[0m     oldest_post \u001b[38;5;241m=\u001b[39m \u001b[38;5;28;01mNone\u001b[39;00m \u001b[38;5;66;03m# for the first time running this, before will be None\u001b[39;00m\n",
      "\u001b[0;31mKeyError\u001b[0m: 'data'"
     ]
    }
   ],
   "source": [
    "rbn = reddit_query(\"raisedbynarcissists\", 10)"
   ]
  },
  {
   "cell_type": "code",
   "execution_count": null,
   "id": "61226ebe-f37b-4952-84cb-e4bc7cd42ddd",
   "metadata": {},
   "outputs": [],
   "source": []
  }
 ],
 "metadata": {
  "kernelspec": {
   "display_name": "Python 3 (ipykernel)",
   "language": "python",
   "name": "python3"
  },
  "language_info": {
   "codemirror_mode": {
    "name": "ipython",
    "version": 3
   },
   "file_extension": ".py",
   "mimetype": "text/x-python",
   "name": "python",
   "nbconvert_exporter": "python",
   "pygments_lexer": "ipython3",
   "version": "3.8.12"
  }
 },
 "nbformat": 4,
 "nbformat_minor": 5
}

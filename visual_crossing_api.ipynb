{
 "cells": [
  {
   "cell_type": "markdown",
   "id": "37acc09b",
   "metadata": {},
   "source": [
    "https://github.com/visualcrossing/WeatherApi/blob/master/python_samples/loading_weather_data_into_python_timeline.py"
   ]
  },
  {
   "cell_type": "markdown",
   "id": "99c39a68",
   "metadata": {},
   "source": [
    "## Import library"
   ]
  },
  {
   "cell_type": "code",
   "execution_count": 5,
   "id": "1bfde522",
   "metadata": {},
   "outputs": [],
   "source": [
    "import csv\n",
    "import codecs\n",
    "import urllib.request\n",
    "import urllib.error\n",
    "import sys"
   ]
  },
  {
   "cell_type": "code",
   "execution_count": 6,
   "id": "e3778eae",
   "metadata": {},
   "outputs": [],
   "source": [
    "import pandas as pd"
   ]
  },
  {
   "cell_type": "markdown",
   "id": "fcee8a2f",
   "metadata": {},
   "source": [
    "### Credentials"
   ]
  },
  {
   "cell_type": "code",
   "execution_count": 7,
   "id": "e4e4f773",
   "metadata": {},
   "outputs": [],
   "source": [
    "BaseURL = 'https://weather.visualcrossing.com/VisualCrossingWebServices/rest/services/timeline/'\n"
   ]
  },
  {
   "cell_type": "code",
   "execution_count": 9,
   "id": "4ba6249c",
   "metadata": {},
   "outputs": [],
   "source": [
    "ApiKey='#'"
   ]
  },
  {
   "cell_type": "code",
   "execution_count": 39,
   "id": "51e938bb",
   "metadata": {},
   "outputs": [],
   "source": [
    "Location='Washington,DC'"
   ]
  },
  {
   "cell_type": "code",
   "execution_count": 40,
   "id": "185e6b8e",
   "metadata": {},
   "outputs": [],
   "source": [
    "ContentType=\"csv\""
   ]
  },
  {
   "cell_type": "code",
   "execution_count": 43,
   "id": "f5b5995b",
   "metadata": {},
   "outputs": [],
   "source": [
    "Include=\"days\""
   ]
  },
  {
   "cell_type": "code",
   "execution_count": 44,
   "id": "63756b6c",
   "metadata": {},
   "outputs": [],
   "source": [
    "ApiQuery=BaseURL + Location"
   ]
  },
  {
   "cell_type": "code",
   "execution_count": 45,
   "id": "62d849f1",
   "metadata": {},
   "outputs": [],
   "source": [
    "#Url is completed. Now add query parameters (could be passed as GET or POST)\n",
    "ApiQuery+=\"?\"\n",
    "\n",
    "\n",
    "if (len(ContentType)):\n",
    "    ApiQuery+=\"&contentType=\"+ContentType\n",
    "\n",
    "if (len(Include)):\n",
    "    ApiQuery+=\"&include=\"+Include\n",
    "\n",
    "ApiQuery+=\"&key=\"+ApiKey\n"
   ]
  },
  {
   "cell_type": "code",
   "execution_count": 57,
   "id": "967911ef",
   "metadata": {},
   "outputs": [
    {
     "data": {
      "text/plain": [
       "'https://weather.visualcrossing.com/VisualCrossingWebServices/rest/services/timeline/Washington,DC?&contentType=csv&include=days&key=PWCCMKMBEJ4BYQEDQHMUWW2RR'"
      ]
     },
     "execution_count": 57,
     "metadata": {},
     "output_type": "execute_result"
    }
   ],
   "source": [
    "ApiQuery"
   ]
  },
  {
   "cell_type": "code",
   "execution_count": 58,
   "id": "c2bfb374",
   "metadata": {},
   "outputs": [
    {
     "data": {
      "text/plain": [
       "<http.client.HTTPResponse at 0x7fcb3a9bb490>"
      ]
     },
     "execution_count": 58,
     "metadata": {},
     "output_type": "execute_result"
    }
   ],
   "source": [
    "urllib.request.urlopen(ApiQuery)"
   ]
  },
  {
   "cell_type": "code",
   "execution_count": 69,
   "id": "12f98cea",
   "metadata": {},
   "outputs": [],
   "source": [
    "try: \n",
    "    CSVBytes = urllib.request.urlopen(ApiQuery)\n",
    "except urllib.error.HTTPError  as e:\n",
    "    ErrorInfo= e.read().decode() \n",
    "    print('Error code: ', e.code, ErrorInfo)\n",
    "    sys.exit()\n",
    "except  urllib.error.URLError as e:\n",
    "    ErrorInfo= e.read().decode() \n",
    "    print('Error code: ', e.code,ErrorInfo)\n",
    "    sys.exit()"
   ]
  },
  {
   "cell_type": "code",
   "execution_count": 70,
   "id": "9a325380",
   "metadata": {},
   "outputs": [],
   "source": [
    "CSVText = csv.reader(codecs.iterdecode(CSVBytes, 'utf-8'))\n",
    "#RowIndex = 0"
   ]
  },
  {
   "cell_type": "code",
   "execution_count": 71,
   "id": "d0d07bd6",
   "metadata": {},
   "outputs": [],
   "source": [
    "df = pd.DataFrame(CSVText)"
   ]
  },
  {
   "cell_type": "code",
   "execution_count": 79,
   "id": "8a4e51ff",
   "metadata": {},
   "outputs": [],
   "source": [
    "df.columns = df.iloc[0,:]"
   ]
  },
  {
   "cell_type": "code",
   "execution_count": 82,
   "id": "0d473280",
   "metadata": {},
   "outputs": [],
   "source": [
    "df = df.iloc[1:,]"
   ]
  },
  {
   "cell_type": "code",
   "execution_count": 84,
   "id": "7ce4ff6d",
   "metadata": {
    "scrolled": true
   },
   "outputs": [
    {
     "data": {
      "text/html": [
       "<div>\n",
       "<style scoped>\n",
       "    .dataframe tbody tr th:only-of-type {\n",
       "        vertical-align: middle;\n",
       "    }\n",
       "\n",
       "    .dataframe tbody tr th {\n",
       "        vertical-align: top;\n",
       "    }\n",
       "\n",
       "    .dataframe thead th {\n",
       "        text-align: right;\n",
       "    }\n",
       "</style>\n",
       "<table border=\"1\" class=\"dataframe\">\n",
       "  <thead>\n",
       "    <tr style=\"text-align: right;\">\n",
       "      <th></th>\n",
       "      <th>name</th>\n",
       "      <th>datetime</th>\n",
       "      <th>tempmax</th>\n",
       "      <th>tempmin</th>\n",
       "      <th>temp</th>\n",
       "      <th>feelslikemax</th>\n",
       "      <th>feelslikemin</th>\n",
       "      <th>feelslike</th>\n",
       "      <th>dew</th>\n",
       "      <th>humidity</th>\n",
       "      <th>...</th>\n",
       "      <th>solarenergy</th>\n",
       "      <th>uvindex</th>\n",
       "      <th>severerisk</th>\n",
       "      <th>sunrise</th>\n",
       "      <th>sunset</th>\n",
       "      <th>moonphase</th>\n",
       "      <th>conditions</th>\n",
       "      <th>description</th>\n",
       "      <th>icon</th>\n",
       "      <th>stations</th>\n",
       "    </tr>\n",
       "  </thead>\n",
       "  <tbody>\n",
       "    <tr>\n",
       "      <th>11</th>\n",
       "      <td>Washington, DC, United States</td>\n",
       "      <td>2023-03-30</td>\n",
       "      <td>63.1</td>\n",
       "      <td>45.6</td>\n",
       "      <td>54.1</td>\n",
       "      <td>63.1</td>\n",
       "      <td>41.4</td>\n",
       "      <td>52.4</td>\n",
       "      <td>33.8</td>\n",
       "      <td>46.8</td>\n",
       "      <td>...</td>\n",
       "      <td>14.6</td>\n",
       "      <td>7</td>\n",
       "      <td>10</td>\n",
       "      <td>2023-03-30T06:56:10</td>\n",
       "      <td>2023-03-30T19:29:43</td>\n",
       "      <td>0.29</td>\n",
       "      <td>Rain, Partially cloudy</td>\n",
       "      <td>Partly cloudy throughout the day with a chance...</td>\n",
       "      <td>rain</td>\n",
       "      <td></td>\n",
       "    </tr>\n",
       "    <tr>\n",
       "      <th>12</th>\n",
       "      <td>Washington, DC, United States</td>\n",
       "      <td>2023-03-31</td>\n",
       "      <td>69.7</td>\n",
       "      <td>50.3</td>\n",
       "      <td>59</td>\n",
       "      <td>69.7</td>\n",
       "      <td>50.3</td>\n",
       "      <td>59</td>\n",
       "      <td>53.9</td>\n",
       "      <td>83.3</td>\n",
       "      <td>...</td>\n",
       "      <td>3.6</td>\n",
       "      <td>2</td>\n",
       "      <td>10</td>\n",
       "      <td>2023-03-31T06:54:36</td>\n",
       "      <td>2023-03-31T19:30:41</td>\n",
       "      <td>0.32</td>\n",
       "      <td>Rain, Overcast</td>\n",
       "      <td>Cloudy skies throughout the day with rain clea...</td>\n",
       "      <td>rain</td>\n",
       "      <td></td>\n",
       "    </tr>\n",
       "    <tr>\n",
       "      <th>13</th>\n",
       "      <td>Washington, DC, United States</td>\n",
       "      <td>2023-04-01</td>\n",
       "      <td>74.9</td>\n",
       "      <td>57.3</td>\n",
       "      <td>65</td>\n",
       "      <td>74.9</td>\n",
       "      <td>57.3</td>\n",
       "      <td>65</td>\n",
       "      <td>47.1</td>\n",
       "      <td>55.7</td>\n",
       "      <td>...</td>\n",
       "      <td>18</td>\n",
       "      <td>7</td>\n",
       "      <td>10</td>\n",
       "      <td>2023-04-01T06:53:03</td>\n",
       "      <td>2023-04-01T19:31:39</td>\n",
       "      <td>0.35</td>\n",
       "      <td>Partially cloudy</td>\n",
       "      <td>Partly cloudy throughout the day.</td>\n",
       "      <td>partly-cloudy-day</td>\n",
       "      <td></td>\n",
       "    </tr>\n",
       "    <tr>\n",
       "      <th>14</th>\n",
       "      <td>Washington, DC, United States</td>\n",
       "      <td>2023-04-02</td>\n",
       "      <td>60.9</td>\n",
       "      <td>38.2</td>\n",
       "      <td>46.4</td>\n",
       "      <td>60.9</td>\n",
       "      <td>29.9</td>\n",
       "      <td>40.5</td>\n",
       "      <td>25.1</td>\n",
       "      <td>44.7</td>\n",
       "      <td>...</td>\n",
       "      <td>24</td>\n",
       "      <td>9</td>\n",
       "      <td>10</td>\n",
       "      <td>2023-04-02T06:51:30</td>\n",
       "      <td>2023-04-02T19:32:37</td>\n",
       "      <td>0.39</td>\n",
       "      <td>Partially cloudy</td>\n",
       "      <td>Becoming cloudy in the afternoon.</td>\n",
       "      <td>partly-cloudy-day</td>\n",
       "      <td></td>\n",
       "    </tr>\n",
       "    <tr>\n",
       "      <th>15</th>\n",
       "      <td>Washington, DC, United States</td>\n",
       "      <td>2023-04-03</td>\n",
       "      <td>54.4</td>\n",
       "      <td>33.9</td>\n",
       "      <td>43.4</td>\n",
       "      <td>54.4</td>\n",
       "      <td>23.9</td>\n",
       "      <td>37.9</td>\n",
       "      <td>22.1</td>\n",
       "      <td>43.8</td>\n",
       "      <td>...</td>\n",
       "      <td>24.6</td>\n",
       "      <td>9</td>\n",
       "      <td>10</td>\n",
       "      <td>2023-04-03T06:49:57</td>\n",
       "      <td>2023-04-03T19:33:35</td>\n",
       "      <td>0.42</td>\n",
       "      <td>Partially cloudy</td>\n",
       "      <td>Partly cloudy throughout the day.</td>\n",
       "      <td>partly-cloudy-day</td>\n",
       "      <td></td>\n",
       "    </tr>\n",
       "  </tbody>\n",
       "</table>\n",
       "<p>5 rows × 33 columns</p>\n",
       "</div>"
      ],
      "text/plain": [
       "0                            name    datetime tempmax tempmin  temp  \\\n",
       "11  Washington, DC, United States  2023-03-30    63.1    45.6  54.1   \n",
       "12  Washington, DC, United States  2023-03-31    69.7    50.3    59   \n",
       "13  Washington, DC, United States  2023-04-01    74.9    57.3    65   \n",
       "14  Washington, DC, United States  2023-04-02    60.9    38.2  46.4   \n",
       "15  Washington, DC, United States  2023-04-03    54.4    33.9  43.4   \n",
       "\n",
       "0  feelslikemax feelslikemin feelslike   dew humidity  ... solarenergy  \\\n",
       "11         63.1         41.4      52.4  33.8     46.8  ...        14.6   \n",
       "12         69.7         50.3        59  53.9     83.3  ...         3.6   \n",
       "13         74.9         57.3        65  47.1     55.7  ...          18   \n",
       "14         60.9         29.9      40.5  25.1     44.7  ...          24   \n",
       "15         54.4         23.9      37.9  22.1     43.8  ...        24.6   \n",
       "\n",
       "0  uvindex severerisk              sunrise               sunset moonphase  \\\n",
       "11       7         10  2023-03-30T06:56:10  2023-03-30T19:29:43      0.29   \n",
       "12       2         10  2023-03-31T06:54:36  2023-03-31T19:30:41      0.32   \n",
       "13       7         10  2023-04-01T06:53:03  2023-04-01T19:31:39      0.35   \n",
       "14       9         10  2023-04-02T06:51:30  2023-04-02T19:32:37      0.39   \n",
       "15       9         10  2023-04-03T06:49:57  2023-04-03T19:33:35      0.42   \n",
       "\n",
       "0               conditions                                        description  \\\n",
       "11  Rain, Partially cloudy  Partly cloudy throughout the day with a chance...   \n",
       "12          Rain, Overcast  Cloudy skies throughout the day with rain clea...   \n",
       "13        Partially cloudy                  Partly cloudy throughout the day.   \n",
       "14        Partially cloudy                  Becoming cloudy in the afternoon.   \n",
       "15        Partially cloudy                  Partly cloudy throughout the day.   \n",
       "\n",
       "0                icon stations  \n",
       "11               rain           \n",
       "12               rain           \n",
       "13  partly-cloudy-day           \n",
       "14  partly-cloudy-day           \n",
       "15  partly-cloudy-day           \n",
       "\n",
       "[5 rows x 33 columns]"
      ]
     },
     "execution_count": 84,
     "metadata": {},
     "output_type": "execute_result"
    }
   ],
   "source": [
    "df.tail()"
   ]
  },
  {
   "cell_type": "code",
   "execution_count": null,
   "id": "56be7015",
   "metadata": {},
   "outputs": [],
   "source": []
  }
 ],
 "metadata": {
  "kernelspec": {
   "display_name": "Python 3 (ipykernel)",
   "language": "python",
   "name": "python3"
  },
  "language_info": {
   "codemirror_mode": {
    "name": "ipython",
    "version": 3
   },
   "file_extension": ".py",
   "mimetype": "text/x-python",
   "name": "python",
   "nbconvert_exporter": "python",
   "pygments_lexer": "ipython3",
   "version": "3.8.12"
  }
 },
 "nbformat": 4,
 "nbformat_minor": 5
}

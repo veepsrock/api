{
 "cells": [
  {
   "cell_type": "code",
   "execution_count": 3,
   "id": "2b93e835-8ffa-431b-8a3b-1db96c8ba818",
   "metadata": {},
   "outputs": [],
   "source": [
    "pip install praw\n",
    "import praw\n",
    "import pandas as pd\n",
    "import datetime as dt\n"
   ]
  },
  {
   "cell_type": "markdown",
   "id": "b28c14a1-1f71-4d65-8e7b-1b1c3c38d710",
   "metadata": {},
   "source": [
    "## Reddit credentials"
   ]
  },
  {
   "cell_type": "code",
   "execution_count": 60,
   "id": "ebb78e6c-1fc4-4d86-a474-ae4220d3509b",
   "metadata": {},
   "outputs": [],
   "source": [
    "reddit = praw.Reddit(client_id='u9w0J87hBzr7cffOXurVMg',\n",
    "                     client_secret='fbnUe_fnQWbynA4F1mEPK7U4Zzf2JQ',\n",
    "                     user_agent='none:epothesisscript:v0.1 (by u/Warm-Sympathy-0)',\n",
    "                     username='tasnuvaorchi@gmail.com',\n",
    "                     password='happy2helpfriends')"
   ]
  },
  {
   "cell_type": "markdown",
   "id": "41d45773-f342-40a2-aabe-f4dcc9f341fc",
   "metadata": {},
   "source": [
    "## Set up reddit object"
   ]
  },
  {
   "cell_type": "code",
   "execution_count": 7,
   "id": "6fa7995d-4d53-4cf2-b7a6-65aae42e083b",
   "metadata": {},
   "outputs": [],
   "source": [
    "subreddit = reddit.subreddit(\"depression\")"
   ]
  },
  {
   "cell_type": "markdown",
   "id": "14a0d60e-a171-4b3b-bfb4-39badcacf293",
   "metadata": {},
   "source": [
    "### Create dataframe object"
   ]
  },
  {
   "cell_type": "code",
   "execution_count": 22,
   "id": "d8828899-ba15-452c-9da3-28c01bf6f40f",
   "metadata": {},
   "outputs": [],
   "source": [
    "df = pd.DataFrame()\n",
    "dates=[]\n",
    "posts=[]"
   ]
  },
  {
   "cell_type": "markdown",
   "id": "f2867f1a-946b-4a07-9879-7930c41a0f86",
   "metadata": {},
   "source": [
    "### Pull reddit submissions"
   ]
  },
  {
   "cell_type": "code",
   "execution_count": 41,
   "id": "bfa36e3b-3282-495a-9f78-8b21c408c811",
   "metadata": {},
   "outputs": [],
   "source": [
    "for submission in subreddit.new(limit=50):\n",
    "    ids.append(submission.id)\n",
    "    titles.append(submission.title)\n",
    "    dates.append(submission.created_utc)\n",
    "    posts.append(submission.selftext) #upvotes\n",
    "    "
   ]
  },
  {
   "cell_type": "markdown",
   "id": "40553c23-2649-42d6-b3b4-f30216f46ad8",
   "metadata": {},
   "source": [
    "#### Update dataframe"
   ]
  },
  {
   "cell_type": "code",
   "execution_count": 57,
   "id": "83e36782-2eb5-45c3-bfcb-47182174fcd0",
   "metadata": {},
   "outputs": [],
   "source": [
    "df['date'] = dates\n",
    "df['post'] = posts"
   ]
  },
  {
   "cell_type": "code",
   "execution_count": 58,
   "id": "a15b8b3a-32f2-45db-9f86-5ff5b71000fa",
   "metadata": {},
   "outputs": [],
   "source": [
    "#convert date from unix to month-day-year\n",
    "df['date'] = df['date'].apply(lambda x: dt.datetime.utcfromtimestamp(x).strftime('%m-%d-%Y'))"
   ]
  },
  {
   "cell_type": "code",
   "execution_count": 59,
   "id": "70784ec8-9f62-4c1a-abd1-943d8dbb2127",
   "metadata": {},
   "outputs": [
    {
     "data": {
      "text/html": [
       "<div>\n",
       "<style scoped>\n",
       "    .dataframe tbody tr th:only-of-type {\n",
       "        vertical-align: middle;\n",
       "    }\n",
       "\n",
       "    .dataframe tbody tr th {\n",
       "        vertical-align: top;\n",
       "    }\n",
       "\n",
       "    .dataframe thead th {\n",
       "        text-align: right;\n",
       "    }\n",
       "</style>\n",
       "<table border=\"1\" class=\"dataframe\">\n",
       "  <thead>\n",
       "    <tr style=\"text-align: right;\">\n",
       "      <th></th>\n",
       "      <th>date</th>\n",
       "      <th>post</th>\n",
       "    </tr>\n",
       "  </thead>\n",
       "  <tbody>\n",
       "    <tr>\n",
       "      <th>0</th>\n",
       "      <td>07-12-2023</td>\n",
       "      <td>I feel like the only thing fuelling me to cont...</td>\n",
       "    </tr>\n",
       "    <tr>\n",
       "      <th>1</th>\n",
       "      <td>07-12-2023</td>\n",
       "      <td>So these past 7 years have been tough. Since I...</td>\n",
       "    </tr>\n",
       "    <tr>\n",
       "      <th>2</th>\n",
       "      <td>07-12-2023</td>\n",
       "      <td>i have a group of good friends, a person who c...</td>\n",
       "    </tr>\n",
       "    <tr>\n",
       "      <th>3</th>\n",
       "      <td>07-12-2023</td>\n",
       "      <td>For me? i used to be strong more than i should...</td>\n",
       "    </tr>\n",
       "    <tr>\n",
       "      <th>4</th>\n",
       "      <td>07-12-2023</td>\n",
       "      <td>Hey Reddit, I don’t know if this is immature o...</td>\n",
       "    </tr>\n",
       "    <tr>\n",
       "      <th>...</th>\n",
       "      <td>...</td>\n",
       "      <td>...</td>\n",
       "    </tr>\n",
       "    <tr>\n",
       "      <th>66</th>\n",
       "      <td>07-12-2023</td>\n",
       "      <td>\"LONG POST\"\\n\\n&amp;#x200B;\\n\\nI have been struggl...</td>\n",
       "    </tr>\n",
       "    <tr>\n",
       "      <th>67</th>\n",
       "      <td>07-12-2023</td>\n",
       "      <td>Hello I'm a person who is a Bipolar and haves ...</td>\n",
       "    </tr>\n",
       "    <tr>\n",
       "      <th>68</th>\n",
       "      <td>07-12-2023</td>\n",
       "      <td>I’ve made so many mistakes I hate who I am I h...</td>\n",
       "    </tr>\n",
       "    <tr>\n",
       "      <th>69</th>\n",
       "      <td>07-12-2023</td>\n",
       "      <td>I did just this earlier... nostalgia hits hard...</td>\n",
       "    </tr>\n",
       "    <tr>\n",
       "      <th>70</th>\n",
       "      <td>07-12-2023</td>\n",
       "      <td>I thought I was getting better, but it seems i...</td>\n",
       "    </tr>\n",
       "  </tbody>\n",
       "</table>\n",
       "<p>71 rows × 2 columns</p>\n",
       "</div>"
      ],
      "text/plain": [
       "          date                                               post\n",
       "0   07-12-2023  I feel like the only thing fuelling me to cont...\n",
       "1   07-12-2023  So these past 7 years have been tough. Since I...\n",
       "2   07-12-2023  i have a group of good friends, a person who c...\n",
       "3   07-12-2023  For me? i used to be strong more than i should...\n",
       "4   07-12-2023  Hey Reddit, I don’t know if this is immature o...\n",
       "..         ...                                                ...\n",
       "66  07-12-2023  \"LONG POST\"\\n\\n&#x200B;\\n\\nI have been struggl...\n",
       "67  07-12-2023  Hello I'm a person who is a Bipolar and haves ...\n",
       "68  07-12-2023  I’ve made so many mistakes I hate who I am I h...\n",
       "69  07-12-2023  I did just this earlier... nostalgia hits hard...\n",
       "70  07-12-2023  I thought I was getting better, but it seems i...\n",
       "\n",
       "[71 rows x 2 columns]"
      ]
     },
     "execution_count": 59,
     "metadata": {},
     "output_type": "execute_result"
    }
   ],
   "source": [
    "df"
   ]
  }
 ],
 "metadata": {
  "kernelspec": {
   "display_name": "Python 3 (ipykernel)",
   "language": "python",
   "name": "python3"
  },
  "language_info": {
   "codemirror_mode": {
    "name": "ipython",
    "version": 3
   },
   "file_extension": ".py",
   "mimetype": "text/x-python",
   "name": "python",
   "nbconvert_exporter": "python",
   "pygments_lexer": "ipython3",
   "version": "3.8.12"
  }
 },
 "nbformat": 4,
 "nbformat_minor": 5
}

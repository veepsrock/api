{
 "cells": [
  {
   "cell_type": "code",
   "execution_count": 0,
   "metadata": {
    "application/vnd.databricks.v1+cell": {
     "cellMetadata": {},
     "inputWidgets": {},
     "nuid": "9805f9fe-31fb-4296-a7fb-f3789c57b4e3",
     "showTitle": false,
     "title": ""
    }
   },
   "outputs": [],
   "source": [
    "pip install praw\n",
    "import praw\n",
    "import pandas as pd\n",
    "import datetime as dt\n"
   ]
  },
  {
   "cell_type": "markdown",
   "metadata": {
    "application/vnd.databricks.v1+cell": {
     "cellMetadata": {},
     "inputWidgets": {},
     "nuid": "b04537be-aecd-4758-9bfd-9022527eb9c6",
     "showTitle": false,
     "title": ""
    }
   },
   "source": [
    "## Reddit credentials"
   ]
  },
  {
   "cell_type": "code",
   "execution_count": 0,
   "metadata": {
    "application/vnd.databricks.v1+cell": {
     "cellMetadata": {},
     "inputWidgets": {},
     "nuid": "fdca305a-f000-4e82-892f-670e12313c5f",
     "showTitle": false,
     "title": ""
    }
   },
   "outputs": [],
   "source": [
    "reddit = praw.Reddit(client_id='u9w0J87hBzr7cffOXurVMg',\n",
    "                     client_secret='fbnUe_fnQWbynA4F1mEPK7U4Zzf2JQ',\n",
    "                     user_agent='none:epothesisscript:v0.1 (by u/Warm-Sympathy-0)',\n",
    "                     username='tasnuvaorchi@gmail.com',\n",
    "                     password='happy2helpfriends')"
   ]
  },
  {
   "cell_type": "markdown",
   "metadata": {
    "application/vnd.databricks.v1+cell": {
     "cellMetadata": {},
     "inputWidgets": {},
     "nuid": "30450208-2889-4bb9-82e3-f8d084c96260",
     "showTitle": false,
     "title": ""
    }
   },
   "source": [
    "## Set up reddit object"
   ]
  },
  {
   "cell_type": "code",
   "execution_count": 0,
   "metadata": {
    "application/vnd.databricks.v1+cell": {
     "cellMetadata": {},
     "inputWidgets": {},
     "nuid": "0658e718-d6b9-4e17-a846-646289c7dced",
     "showTitle": false,
     "title": ""
    }
   },
   "outputs": [],
   "source": [
    "subreddit = reddit.subreddit(\"depression\")"
   ]
  },
  {
   "cell_type": "markdown",
   "metadata": {
    "application/vnd.databricks.v1+cell": {
     "cellMetadata": {},
     "inputWidgets": {},
     "nuid": "481a2e5d-8a9d-470d-8471-17018ba1d421",
     "showTitle": false,
     "title": ""
    }
   },
   "source": [
    "### Create dataframe object"
   ]
  },
  {
   "cell_type": "code",
   "execution_count": 0,
   "metadata": {
    "application/vnd.databricks.v1+cell": {
     "cellMetadata": {},
     "inputWidgets": {},
     "nuid": "3ba797b4-47e0-49e9-9151-2958a8e73f00",
     "showTitle": false,
     "title": ""
    }
   },
   "outputs": [],
   "source": [
    "df = pd.DataFrame()\n",
    "dates=[]\n",
    "posts=[]"
   ]
  },
  {
   "cell_type": "markdown",
   "metadata": {
    "application/vnd.databricks.v1+cell": {
     "cellMetadata": {},
     "inputWidgets": {},
     "nuid": "59cd4d90-7a20-4087-a1f4-5130cb68591a",
     "showTitle": false,
     "title": ""
    }
   },
   "source": [
    "### Pull reddit submissions"
   ]
  },
  {
   "cell_type": "code",
   "execution_count": 0,
   "metadata": {
    "application/vnd.databricks.v1+cell": {
     "cellMetadata": {},
     "inputWidgets": {},
     "nuid": "cb53a4ef-3b42-40a5-bd9a-5337d774d6ea",
     "showTitle": false,
     "title": ""
    }
   },
   "outputs": [],
   "source": [
    "for submission in subreddit.new(limit=50):\n",
    "    ids.append(submission.id)\n",
    "    titles.append(submission.title)\n",
    "    dates.append(submission.created_utc)\n",
    "    posts.append(submission.selftext) #upvotes\n",
    "    "
   ]
  },
  {
   "cell_type": "markdown",
   "metadata": {
    "application/vnd.databricks.v1+cell": {
     "cellMetadata": {},
     "inputWidgets": {},
     "nuid": "efa5a9bf-4c9b-412e-bd4a-6aa2691b6fc6",
     "showTitle": false,
     "title": ""
    }
   },
   "source": [
    "#### Update dataframe"
   ]
  },
  {
   "cell_type": "code",
   "execution_count": 0,
   "metadata": {
    "application/vnd.databricks.v1+cell": {
     "cellMetadata": {},
     "inputWidgets": {},
     "nuid": "f15cb03e-ebf1-46e7-af6f-98f8c465220b",
     "showTitle": false,
     "title": ""
    }
   },
   "outputs": [],
   "source": [
    "df['date'] = dates\n",
    "df['post'] = posts"
   ]
  },
  {
   "cell_type": "code",
   "execution_count": 0,
   "metadata": {
    "application/vnd.databricks.v1+cell": {
     "cellMetadata": {},
     "inputWidgets": {},
     "nuid": "4581d49c-39b8-4eb9-b95f-94f3182ea4f3",
     "showTitle": false,
     "title": ""
    }
   },
   "outputs": [],
   "source": [
    "#convert date from unix to month-day-year\n",
    "df['date'] = df['date'].apply(lambda x: dt.datetime.utcfromtimestamp(x).strftime('%m-%d-%Y'))"
   ]
  },
  {
   "cell_type": "code",
   "execution_count": 0,
   "metadata": {
    "application/vnd.databricks.v1+cell": {
     "cellMetadata": {},
     "inputWidgets": {},
     "nuid": "27447632-7e9e-4812-9f0f-9567209fbaf5",
     "showTitle": false,
     "title": ""
    }
   },
   "outputs": [],
   "source": [
    "df"
   ]
  }
 ],
 "metadata": {
  "application/vnd.databricks.v1+notebook": {
   "dashboards": [],
   "language": "python",
   "notebookMetadata": {},
   "notebookName": "praw",
   "widgets": {}
  },
  "kernelspec": {
   "display_name": "Python 3 (ipykernel)",
   "language": "python",
   "name": "python3"
  },
  "language_info": {
   "codemirror_mode": {
    "name": "ipython",
    "version": 3
   },
   "file_extension": ".py",
   "mimetype": "text/x-python",
   "name": "python",
   "nbconvert_exporter": "python",
   "pygments_lexer": "ipython3",
   "version": "3.8.12"
  }
 },
 "nbformat": 4,
 "nbformat_minor": 0
}
